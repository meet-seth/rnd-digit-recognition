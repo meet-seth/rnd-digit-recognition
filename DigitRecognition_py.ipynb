{
  "nbformat": 4,
  "nbformat_minor": 0,
  "metadata": {
    "colab": {
      "name": "DigitRecognition.py",
      "provenance": [],
      "collapsed_sections": [],
      "authorship_tag": "ABX9TyPAkg3GCM6lvbtl6DmY/fW7",
      "include_colab_link": true
    },
    "kernelspec": {
      "name": "python3",
      "display_name": "Python 3"
    },
    "accelerator": "GPU"
  },
  "cells": [
    {
      "cell_type": "markdown",
      "metadata": {
        "id": "view-in-github",
        "colab_type": "text"
      },
      "source": [
        "<a href=\"https://colab.research.google.com/github/meet-seth/rnd-digit-recognition/blob/master/DigitRecognition_py.ipynb\" target=\"_parent\"><img src=\"https://colab.research.google.com/assets/colab-badge.svg\" alt=\"Open In Colab\"/></a>"
      ]
    },
    {
      "cell_type": "code",
      "metadata": {
        "id": "zPvt1x1JL51z"
      },
      "source": [
        "import torch \n",
        "import torch.nn as nn\n",
        "import random\n",
        "import numpy as np\n",
        "import torchvision\n",
        "import torch.optim as optim\n",
        "cuda0 = torch.device(\"cuda:0\")\n",
        "torch.cuda.set_device(cuda0)"
      ],
      "execution_count": null,
      "outputs": []
    },
    {
      "cell_type": "code",
      "metadata": {
        "id": "DStAR2W5SyU5"
      },
      "source": [
        "training_data = torchvision.datasets.MNIST(root = './data',train = True,download = True,transform = torchvision.transforms.ToTensor())\n",
        "trainloader = torch.utils.data.DataLoader(training_data,batch_size = 100,shuffle =True,pin_memory = True)\n",
        "test_data = torchvision.datasets.MNIST(root = \"./data\",train = False,download = True,transform = torchvision.transforms.ToTensor())\n",
        "testloader = torch.utils.data.DataLoader(test_data,batch_size = 100,shuffle = False,pin_memory = True)"
      ],
      "execution_count": null,
      "outputs": []
    },
    {
      "cell_type": "code",
      "metadata": {
        "id": "Oo3SbvDpSyEY"
      },
      "source": [
        "class Network(nn.Module):\n",
        "  def __init__(self):\n",
        "    super(Network,self).__init__()\n",
        "    self.conv_model = nn.Sequential( nn.Conv2d(1,32,3,stride=1,padding=1),\n",
        "                              nn.ReLU(),\n",
        "                              nn.MaxPool2d(2,stride=2),\n",
        "                              nn.Conv2d(32,64,3,stride=1,padding=1),\n",
        "                              nn.ReLU(),\n",
        "                              nn.MaxPool2d(2,stride=2))\n",
        "    self.linear_model = nn.Sequential(\n",
        "                              nn.Linear(7*7*64,128),\n",
        "                              nn.ReLU(),\n",
        "                              nn.Dropout(p=0.5),\n",
        "                              nn.Linear(128,10))\n",
        "  def feedforward(self,x):\n",
        "    x = self.conv_model(x)\n",
        "    y = torch.flatten(x,1)\n",
        "    return self.linear_model(y)"
      ],
      "execution_count": null,
      "outputs": []
    },
    {
      "cell_type": "code",
      "metadata": {
        "id": "n_B1Ds_RSxv8",
        "colab": {
          "base_uri": "https://localhost:8080/",
          "height": 289
        },
        "outputId": "11177990-bf01-4574-df09-995d3e1da893"
      },
      "source": [
        "model = Network()\n",
        "model.cuda()"
      ],
      "execution_count": null,
      "outputs": [
        {
          "output_type": "execute_result",
          "data": {
            "text/plain": [
              "Network(\n",
              "  (conv_model): Sequential(\n",
              "    (0): Conv2d(1, 32, kernel_size=(3, 3), stride=(1, 1), padding=(1, 1))\n",
              "    (1): ReLU()\n",
              "    (2): MaxPool2d(kernel_size=2, stride=2, padding=0, dilation=1, ceil_mode=False)\n",
              "    (3): Conv2d(32, 64, kernel_size=(3, 3), stride=(1, 1), padding=(1, 1))\n",
              "    (4): ReLU()\n",
              "    (5): MaxPool2d(kernel_size=2, stride=2, padding=0, dilation=1, ceil_mode=False)\n",
              "  )\n",
              "  (linear_model): Sequential(\n",
              "    (0): Linear(in_features=3136, out_features=128, bias=True)\n",
              "    (1): ReLU()\n",
              "    (2): Dropout(p=0.5, inplace=False)\n",
              "    (3): Linear(in_features=128, out_features=10, bias=True)\n",
              "  )\n",
              ")"
            ]
          },
          "metadata": {
            "tags": []
          },
          "execution_count": 17
        }
      ]
    },
    {
      "cell_type": "code",
      "metadata": {
        "id": "d8fkqpvfaZ3J"
      },
      "source": [
        "loss = nn.CrossEntropyLoss()"
      ],
      "execution_count": null,
      "outputs": []
    },
    {
      "cell_type": "code",
      "metadata": {
        "id": "dvUmF_0bakWO"
      },
      "source": [
        "optimizer = optim.Adam(model.parameters(),lr = 0.001)"
      ],
      "execution_count": null,
      "outputs": []
    },
    {
      "cell_type": "code",
      "metadata": {
        "id": "qF_5z4BWcxt9"
      },
      "source": [
        "def test_model():\n",
        "  model.eval()\n",
        "  correct = 0\n",
        "  total = 0\n",
        "  for data_test in testloader:\n",
        "    image,label = data_test\n",
        "    image,label = image.cuda(),label.cuda()\n",
        "    output = model.feedforward(image)\n",
        "    max_value,pred_class = torch.max(output,1)\n",
        "    total += label.shape[0]\n",
        "    correct += (pred_class == label).sum().item()\n",
        "  accuracy = (100*correct)/total\n",
        "\n",
        "  return (correct,total,accuracy)\n",
        "\n",
        "def train_model(epochs): \n",
        "  model.train() \n",
        "  for i in range(epochs):\n",
        "    for data_train in trainloader:\n",
        "      image,label = data_train \n",
        "      image,label = image.cuda(),label.cuda() \n",
        "      optimizer.zero_grad()\n",
        "      out = model.feedforward(image)\n",
        "      ls = loss(out,label)\n",
        "      ls.backward()\n",
        "      optimizer.step()\n",
        "\n",
        "      \n",
        "    correct,total,accuracy = test_model()\n",
        "    print(\"Epoch {0}: Correct: {1} Total: {2} Accuracy: {3}\".format(i+1,correct,total,accuracy))"
      ],
      "execution_count": null,
      "outputs": []
    },
    {
      "cell_type": "code",
      "metadata": {
        "id": "ZPxILeaUljGG",
        "colab": {
          "base_uri": "https://localhost:8080/",
          "height": 272
        },
        "outputId": "f2d312b8-6bdc-4d39-d0b5-29bb6a8ca427"
      },
      "source": [
        "#Training the model\n",
        "epochs = 15\n",
        "train_model(epochs)"
      ],
      "execution_count": null,
      "outputs": [
        {
          "output_type": "stream",
          "text": [
            "Epoch 1: Correct: 9810 Total: 10000 Accuracy: 98.1\n",
            "Epoch 2: Correct: 9857 Total: 10000 Accuracy: 98.57\n",
            "Epoch 3: Correct: 9884 Total: 10000 Accuracy: 98.84\n",
            "Epoch 4: Correct: 9909 Total: 10000 Accuracy: 99.09\n",
            "Epoch 5: Correct: 9906 Total: 10000 Accuracy: 99.06\n",
            "Epoch 6: Correct: 9908 Total: 10000 Accuracy: 99.08\n",
            "Epoch 7: Correct: 9922 Total: 10000 Accuracy: 99.22\n",
            "Epoch 8: Correct: 9913 Total: 10000 Accuracy: 99.13\n",
            "Epoch 9: Correct: 9909 Total: 10000 Accuracy: 99.09\n",
            "Epoch 10: Correct: 9901 Total: 10000 Accuracy: 99.01\n",
            "Epoch 11: Correct: 9914 Total: 10000 Accuracy: 99.14\n",
            "Epoch 12: Correct: 9907 Total: 10000 Accuracy: 99.07\n",
            "Epoch 13: Correct: 9916 Total: 10000 Accuracy: 99.16\n",
            "Epoch 14: Correct: 9894 Total: 10000 Accuracy: 98.94\n",
            "Epoch 15: Correct: 9911 Total: 10000 Accuracy: 99.11\n"
          ],
          "name": "stdout"
        }
      ]
    },
    {
      "cell_type": "code",
      "metadata": {
        "id": "3vNpqoZ81sFu",
        "colab": {
          "base_uri": "https://localhost:8080/",
          "height": 71
        },
        "outputId": "0638162a-2ff0-45a8-b41f-684bf47a7aaf"
      },
      "source": [
        "model.to(\"cpu\")\n",
        "torch.save(model,\"pytorchmodel.pth\")"
      ],
      "execution_count": null,
      "outputs": [
        {
          "output_type": "stream",
          "text": [
            "/usr/local/lib/python3.6/dist-packages/torch/serialization.py:402: UserWarning: Couldn't retrieve source code for container of type Network. It won't be checked for correctness upon loading.\n",
            "  \"type \" + obj.__name__ + \". It won't be checked \"\n"
          ],
          "name": "stderr"
        }
      ]
    },
    {
      "cell_type": "code",
      "metadata": {
        "id": "Im7bCgYDyR0-"
      },
      "source": [
        "\n",
        "\n"
      ],
      "execution_count": null,
      "outputs": []
    }
  ]
}